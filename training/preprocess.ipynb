{
 "cells": [
  {
   "cell_type": "code",
   "id": "initial_id",
   "metadata": {
    "collapsed": true,
    "ExecuteTime": {
     "end_time": "2024-10-04T22:54:21.954555Z",
     "start_time": "2024-10-04T22:54:21.950214Z"
    }
   },
   "source": [
    "import pandas as pd\n",
    "import re"
   ],
   "outputs": [],
   "execution_count": 15
  },
  {
   "metadata": {
    "ExecuteTime": {
     "end_time": "2024-10-04T22:54:21.979521Z",
     "start_time": "2024-10-04T22:54:21.968057Z"
    }
   },
   "cell_type": "code",
   "source": [
    "dataset = pd.read_csv('./data/dataset.csv', delimiter=\";\")\n",
    "print(dataset.head())"
   ],
   "id": "65bfb8f4ba9b1098",
   "outputs": [
    {
     "name": "stdout",
     "output_type": "stream",
     "text": [
      "  category                                           question  \\\n",
      "0    saude  Como faço para marcar uma consulta em um posto...   \n",
      "1    saude  Quais documentos preciso levar para uma consul...   \n",
      "2    saude                 O que é o SUS e como ele funciona?   \n",
      "3    saude          Como faço para me vacinar contra a gripe?   \n",
      "4    saude  Quais vacinas são oferecidas gratuitamente pel...   \n",
      "\n",
      "                                              answer  \n",
      "0  Para marcar uma consulta, vá até o posto de sa...  \n",
      "1  Você deve levar um documento de identidade com...  \n",
      "2  O SUS é o Sistema Único de Saúde, que oferece ...  \n",
      "3  Vá ao posto de saúde mais próximo durante a ca...  \n",
      "4  O SUS oferece vacinas para diversas doenças, i...  \n"
     ]
    }
   ],
   "execution_count": 16
  },
  {
   "metadata": {
    "ExecuteTime": {
     "end_time": "2024-10-04T22:54:37.818179Z",
     "start_time": "2024-10-04T22:54:37.812616Z"
    }
   },
   "cell_type": "code",
   "source": [
    "text = 'De que maneira posso abrir um chamado pelo SUS? Além disso, me diga passo a passo.'\n",
    "text_tokenized = re.sub(r',', '', text)\n",
    "print(text_tokenized)"
   ],
   "id": "83cbd5dd3674a5fa",
   "outputs": [
    {
     "name": "stdout",
     "output_type": "stream",
     "text": [
      "De que maneira posso abrir um chamado pelo SUS? Além disso me diga passo a passo.\n"
     ]
    }
   ],
   "execution_count": 19
  },
  {
   "metadata": {
    "ExecuteTime": {
     "end_time": "2024-10-04T22:54:22.183599Z",
     "start_time": "2024-10-04T22:54:22.180570Z"
    }
   },
   "cell_type": "code",
   "source": "",
   "id": "d0e38c0cd352998c",
   "outputs": [],
   "execution_count": null
  }
 ],
 "metadata": {
  "kernelspec": {
   "display_name": "Python 3",
   "language": "python",
   "name": "python3"
  },
  "language_info": {
   "codemirror_mode": {
    "name": "ipython",
    "version": 2
   },
   "file_extension": ".py",
   "mimetype": "text/x-python",
   "name": "python",
   "nbconvert_exporter": "python",
   "pygments_lexer": "ipython2",
   "version": "2.7.6"
  }
 },
 "nbformat": 4,
 "nbformat_minor": 5
}
